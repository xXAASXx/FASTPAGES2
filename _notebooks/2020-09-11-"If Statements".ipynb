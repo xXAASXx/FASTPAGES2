{
 "cells": [
  {
   "cell_type": "markdown",
   "metadata": {},
   "source": [
    "# IF-Statements!"
   ]
  },
  {
   "cell_type": "markdown",
   "metadata": {},
   "source": [
    "## If statement; if statements are used to specify a block of code to be executed if a condition is true.\n",
    "\n",
    "If-else:\n",
    "\n",
    "- Uses keyword “if”\n",
    "- Checks if statement is true\n",
    "- If it is, performs certain task\n",
    "- if not, performs else command\n",
    "- if-else-else Use the else if statement to specify a new condition if the first condition is false.\n",
    "\n",
    "Conditionals: allows the computer to make decisions based on if a statement is true or false\n",
    "\n",
    "If-Else-\n",
    "Else If\n",
    "Booleans"
   ]
  },
  {
   "cell_type": "code",
   "execution_count": 1,
   "metadata": {},
   "outputs": [
    {
     "name": "stdout",
     "output_type": "stream",
     "text": [
      "5 is greater than 4\n"
     ]
    }
   ],
   "source": [
    "if (5 > 4) { //the program decides whether this is true or not\n",
    "    System.out.println(\"5 is greater than 4\"); //if it is then this line is printed\n",
    "  }\n"
   ]
  },
  {
   "cell_type": "markdown",
   "metadata": {},
   "source": [
    "## What is an if/else statement? The if/else statement executes a block of code if a specified condition is true. If the condition is false, another block of code can be executed.\n"
   ]
  },
  {
   "cell_type": "code",
   "execution_count": 3,
   "metadata": {},
   "outputs": [
    {
     "name": "stdout",
     "output_type": "stream",
     "text": [
      "I hope you have an amazing day.\n"
     ]
    }
   ],
   "source": [
    "\n",
    "int time = 12; //set variable\n",
    "if (time < 12) { //the program decides whether this is true or not\n",
    "  System.out.println(\"Good evening.\"); //if it is then print this line\n",
    "}else {\n",
    "  System.out.println(\"I hope you have an amazing day.\"); //if it is not then print this\n",
    "}"
   ]
  },
  {
   "cell_type": "markdown",
   "metadata": {},
   "source": [
    "##  What is an If-else-else Statement?\n"
   ]
  },
  {
   "cell_type": "code",
   "execution_count": 11,
   "metadata": {},
   "outputs": [
    {
     "name": "stdout",
     "output_type": "stream",
     "text": [
      "Good afternoon.\n"
     ]
    }
   ],
   "source": [
    "int time = 12;\n",
    "if (time < 12) { //the program decides whether this is true or not\n",
    "  System.out.println(\"Good morning.\"); //if it is then print this line\n",
    "} else if (time < 20) { //if it is not true, then check if this is true\n",
    "  System.out.println(\"Good afternoon.\"); //if it is then print this line\n",
    "} else {\n",
    "  System.out.println(\"Good night.\"); //or else print this line\n",
    "}"
   ]
  },
  {
   "cell_type": "code",
   "execution_count": 5,
   "metadata": {},
   "outputs": [
    {
     "name": "stdout",
     "output_type": "stream",
     "text": [
      "7 is less than 8\n"
     ]
    }
   ],
   "source": [
    "if (1 > 2) {\n",
    "    System.out.println(\"5 is greater than 4\");\n",
    "  }\n",
    "  else if(3 < 1.5) {\n",
    "    System.out.println(\"5 is less than 4\");\n",
    "  }\n",
    "  else if (7 > 8) {\n",
    "    System.out.println(\"8 is greater than 7\");\n",
    "  }\n",
    "  else if (6 < 8) {\n",
    "    System.out.println(\"7 is less than 8\");\n",
    "  }\n",
    "  else {\n",
    "    System.out.println(\"Invalid\");\n",
    "  }"
   ]
  },
  {
   "cell_type": "markdown",
   "metadata": {},
   "source": [
    "\n",
    "## What is a Switch Case Program in Java? Java switch statement executes one statement from multiple conditions.\n",
    "\n",
    "- The switch statement evaluates an expression, matching the expression's value against a series of case clauses, and executes statements after the first case clause with a matching value, until a break statement is encountered. The default clause of a switch statement will be jumped to if no case matches the expression's value."
   ]
  },
  {
   "cell_type": "code",
   "execution_count": 12,
   "metadata": {},
   "outputs": [
    {
     "name": "stdout",
     "output_type": "stream",
     "text": [
      "Enter first number- "
     ]
    },
    {
     "ename": "CompilationException",
     "evalue": "",
     "output_type": "error",
     "traceback": [
      "\u001b[1m\u001b[30m|   \u001b[1m\u001b[30mString something = \u001b[0m\u001b[1m\u001b[30m\u001b[41minput\u001b[0m\u001b[1m\u001b[30m.nextLine();\u001b[0m",
      "\u001b[1m\u001b[31mcannot find symbol\u001b[0m",
      "\u001b[1m\u001b[31m  symbol:   variable input\u001b[0m",
      ""
     ]
    }
   ],
   "source": [
    "System.out.print(\"Enter first number- \");  \n",
    "String something = input.nextLine();  // Read user input\n",
    "System.out.println(something);\n",
    "Scanner sc= new Scanner(System.in); \n",
    "int x= sc.nextInt();  \n",
    "String output;\n",
    "switch (x) { \n",
    "    case 1:\n",
    "        output = x + \" > 0\";\n",
    "        break;\n",
    "    case 2:\n",
    "        output = x + \" > 8\";\n",
    "        break;\n",
    "    case 3:\n",
    "        output = x + \" > 3\";\n",
    "        break;\n",
    "    case 4:\n",
    "        output = x + \" > 6\";\n",
    "        break;\n",
    "}\n",
    "System.out.println(output)\n"
   ]
  },
  {
   "cell_type": "markdown",
   "metadata": {},
   "source": [
    "De Morgan's Law The complement of the union of two sets is the intersection of their complements and the complement of the intersection of two sets is the union of their complements.\n",
    "\n",
    "- || = \"or\" and the && means \"and\" ! = not\n",
    "\n"
   ]
  },
  {
   "cell_type": "code",
   "execution_count": 9,
   "metadata": {},
   "outputs": [
    {
     "name": "stdout",
     "output_type": "stream",
     "text": [
      "I play baseball but not basketball\n"
     ]
    },
    {
     "ename": "CompilationException",
     "evalue": "",
     "output_type": "error",
     "traceback": [
      "\u001b[1m\u001b[30m|   \u001b[1m\u001b[30mI play\u001b[0m\u001b[1m\u001b[30m\u001b[41m\u001b[0m\u001b[1m\u001b[30m baseball but not basketball\u001b[0m",
      "\u001b[1m\u001b[31m';' expected\u001b[0m",
      ""
     ]
    }
   ],
   "source": [
    "boolean playBasketball = false;\n",
    "boolean playBaseball = true;\n",
    "\n",
    "if (!(playBaseball && playBasketball)){\n",
    "    System.out.println(\"I play baseball but not basketball\");\n",
    "}\n",
    "else{\n",
    "    System.out.println(\"I play basketball but not baseball\");\n",
    "}\n",
    "I play baseball but not basketball\n",
    "boolean playBasketball = false;\n",
    "boolean playBaseball = true;\n",
    "\n",
    "if (!playBaseball||!playBasketball){\n",
    "    System.out.println(\"I play basketball but not baseball\");\n",
    "}\n",
    "else{\n",
    "    System.out.println(\"I play baseball but not basketball\");\n",
    "}"
   ]
  }
 ],
 "metadata": {
  "kernelspec": {
   "display_name": "Java",
   "language": "java",
   "name": "java"
  },
  "language_info": {
   "codemirror_mode": "java",
   "file_extension": ".jshell",
   "mimetype": "text/x-java-source",
   "name": "java",
   "pygments_lexer": "java",
   "version": "17.0.4.1+1"
  },
  "orig_nbformat": 4,
  "vscode": {
   "interpreter": {
    "hash": "b0fa6594d8f4cbf19f97940f81e996739fb7646882a419484c72d19e05852a7e"
   }
  }
 },
 "nbformat": 4,
 "nbformat_minor": 2
}
