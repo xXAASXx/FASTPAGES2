{
 "cells": [
  {
   "cell_type": "markdown",
   "id": "f8d25db8",
   "metadata": {},
   "source": [
    "# Java Notebook "
   ]
  },
  {
   "cell_type": "code",
   "execution_count": 1,
   "id": "8214ec5c",
   "metadata": {},
   "outputs": [
    {
     "name": "stdout",
     "output_type": "stream",
     "text": [
      "Hello World, it's Armaan!\n"
     ]
    }
   ],
   "source": [
    "public class Hello {\n",
    "    public static void main(String[] args) {\n",
    "        System.out.println("Hello World, it's Armaan!");\n",
    "    }\n",
    "}\n",
    "\n",
    "Hello.main(null);"
   ]
  },
  {
   "cell_type": "code",
   "execution_count": null,
   "id": "bfd7f260",
   "metadata": {},
   "outputs": [],
   "source": []
  }
 ],
 "metadata": {
  "kernelspec": {
   "display_name": "Java",
   "language": "java",
   "name": "java"
  },
  "language_info": {
   "codemirror_mode": "java",
   "file_extension": ".jshell",
   "mimetype": "text/x-java-source",
   "name": "java",
   "pygments_lexer": "java",
   "version": "11.0.16+8-post-Ubuntu-0ubuntu120.04"
  }
 },
 "nbformat": 4,
 "nbformat_minor": 5
}
