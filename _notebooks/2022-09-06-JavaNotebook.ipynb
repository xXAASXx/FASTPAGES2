{
 "cells": [
  {
   "cell_type": "markdown",
   "id": "f8d25db8",
   "metadata": {},
   "source": [
    "# Java Notebook "
   ]
  },
  {
   "cell_type": "code",
   "execution_count": 1,
   "id": "8214ec5c",
   "metadata": {},
   "outputs": [
    {
     "name": "stdout",
     "output_type": "stream",
     "text": [
      "Hello World!\n"
     ]
    }
   ],
   "source": [
    "public class HelloWorld {\n",
    "    public static void main(String[] args) {\n",
    "        System.out.println(\"Hello World!\");\n",
    "    }\n",
    "}\n",
    "\n",
    "HelloWorld.main(null);"
   ]
  }
 ],
 "metadata": {
  "kernelspec": {
   "display_name": "Java",
   "language": "java",
   "name": "java"
  },
  "language_info": {
   "codemirror_mode": "java",
   "file_extension": ".jshell",
   "mimetype": "text/x-java-source",
   "name": "java",
   "pygments_lexer": "java",
   "version": "17.0.4.1+1"
  }
 },
 "nbformat": 4,
 "nbformat_minor": 5
}
