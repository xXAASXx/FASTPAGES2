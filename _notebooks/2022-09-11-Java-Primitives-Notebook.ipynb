{
 "cells": [
  {
   "cell_type": "markdown",
   "metadata": {},
   "source": [
    "# Java Primitives Notebook"
   ]
  },
  {
   "cell_type": "code",
   "execution_count": 1,
   "metadata": {},
   "outputs": [
    {
     "name": "stdout",
     "output_type": "stream",
     "text": [
      "Enter a temperature in Fahrenheit: 0.0 °F is = -17.77777777777778 °C\n"
     ]
    }
   ],
   "source": [
    "import java.util.Scanner;\n",
    "\n",
    "public class Primitives {\n",
    "    public static void main(String[] args) {\n",
    "        Scanner input;\n",
    "        double fahrenheit = 0.0;\n",
    "        double celsius = 0.0;\n",
    "        boolean correctDouble;\n",
    "\n",
    "        input = new Scanner(System.in);\n",
    "        System.out.print(\"Enter a temperature in Fahrenheit: \");\n",
    "        try {\n",
    "            fahrenheit = input.nextDouble();\n",
    "            System.out.println(fahrenheit);\n",
    "            correctDouble = true;\n",
    "        } catch (Exception e) {\n",
    "            correctDouble = false;\n",
    "        }\n",
    "        input.close();\n",
    "\n",
    "        celsius  = ((fahrenheit-32)*5)/9; \n",
    "\n",
    "        System.out.println( fahrenheit + \" °F is = \" + celsius + \" °C\"); \n",
    "    }\n",
    "}\n",
    "Primitives.main(null);"
   ]
  },
  {
   "cell_type": "code",
   "execution_count": null,
   "metadata": {},
   "outputs": [],
   "source": []
  }
 ],
 "metadata": {
  "kernelspec": {
   "display_name": "Java",
   "language": "java",
   "name": "java"
  },
  "language_info": {
   "codemirror_mode": "java",
   "file_extension": ".jshell",
   "mimetype": "text/x-java-source",
   "name": "java",
   "pygments_lexer": "java",
   "version": "17.0.4.1+1"
  },
  "orig_nbformat": 4
 },
 "nbformat": 4,
 "nbformat_minor": 2
}
