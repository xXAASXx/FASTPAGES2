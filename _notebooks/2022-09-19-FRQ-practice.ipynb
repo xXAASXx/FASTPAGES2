{
 "cells": [
  {
   "cell_type": "markdown",
   "metadata": {},
   "source": [
    "# 2021 FRQ 1 (Part a & b)"
   ]
  },
  {
   "cell_type": "code",
   "execution_count": null,
   "metadata": {
    "vscode": {
     "languageId": "java"
    }
   },
   "outputs": [],
   "source": [
    "Problem 1: https://apcentral.collegeboard.org/media/pdf/ap21-frq-computer-science-a.pdf"
   ]
  },
  {
   "cell_type": "markdown",
   "metadata": {},
   "source": [
    "Part \n",
    "a) Write the WordMatch method scoreGuess. To determine the score to be returned, scoreGuess finds the number of times that guess occurs as a substring of secret and then multiplies that number by the square of the length of guess. Occurrences of guess may overlap within secret.\n",
    "\n",
    "Assume that the length of guess is less than or equal to the length of secret and that guess is not an empty string.\n",
    "\n",
    "The following examples show declarations of a WordMatch object. The tables show the outcomes of\n",
    "some possible calls to the scoreGuess method.\n",
    "\n",
    "WordMatch game = new WordMatch(\"mississippi\"); \n",
    "\n",
    "\n",
    "Part \n",
    "b) Write the WordMatch method findBetterGuess, which returns the better guess of its two\n",
    "String parameters, guess1 and guess2. If the scoreGuess method returns different\n",
    "values for guess1 and guess2, then the guess with the higher score is returned. If the\n",
    "scoreGuess method returns the same value for guess1 and guess2, then the\n",
    "alphabetically greater guess is returned.\n",
    "\n",
    "The following example shows a declaration of a WordMatch object and the outcomes of some\n",
    "possible calls to the scoreGuess and findBetterGuess methods.\n",
    "\n",
    "WordMatch game = new WordMatch(\"concatenation\");"
   ]
  },
  {
   "cell_type": "code",
   "execution_count": 1,
   "metadata": {
    "vscode": {
     "languageId": "java"
    }
   },
   "outputs": [],
   "source": [
    "public class WordMatch\n",
    "{\n",
    "/** The secret string. */\n",
    "private String secret;\n",
    "/** Constructs a WordMatch object with the given secret string of lowercase letters. */\n",
    "\n",
    "public WordMatch(String word)\n",
    "{\n",
    "/* implementation not shown */\n",
    "}\n",
    "/** Returns a score for guess, as described in part (a).\n",
    "* Precondition: 0 < guess.length() <= secret.length()\n",
    "*/\n",
    "public int scoreGuess(String guess)\n",
    "{\n",
    "    int result = 0;\n",
    "\n",
    "    for (int i = 0; a < secret.length(); i++)\n",
    "    {\n",
    "        if(secret.substring(i).indexOf(guess) == 0)\n",
    "        {\n",
    "            result++; \n",
    "        }\n",
    "    }\n",
    "\n",
    "    return result * guess.length() * guess.length();\n",
    "}\n",
    "\n",
    "\n",
    "\n",
    "// public int scoreGuess(String guess)\n",
    "// { /* to be implemented in part (a) */ }\n",
    "\n",
    "\n",
    "\n",
    "/** Returns the better of two guesses, as determined by scoreGuess and the rules for a\n",
    "* tie-breaker that are described in part (b).\n",
    "* Precondition: guess1 and guess2 contain all lowercase letters.\n",
    "* guess1 is not the same as guess2.\n",
    "*/\n",
    "public String findBetterGuess(String guess1, String guess2)\n",
    "{\n",
    "    if(scoreGuess(guess1) > scoreGuess(guess2))\n",
    "    {\n",
    "        return guess1; \n",
    "    } \n",
    "\n",
    "    if(scoreGuess(guess2) > scoreGuess(guess1))\n",
    "    {\n",
    "        return guess2; \n",
    "    }\n",
    "    \n",
    "    if(guess1.compareTo(guess2) > 0 )\n",
    "    {\n",
    "        return guess1;\n",
    "    }\n",
    "    \n",
    "    return guess2; \n",
    "    }\n",
    "}"
   ]
  }
 ],
 "metadata": {
  "kernelspec": {
   "display_name": "Java",
   "language": "java",
   "name": "java"
  },
  "language_info": {
   "codemirror_mode": "java",
   "file_extension": ".jshell",
   "mimetype": "text/x-java-source",
   "name": "Java",
   "pygments_lexer": "java",
   "version": "17.0.4.1+1"
  },
  "orig_nbformat": 4
 },
 "nbformat": 4,
 "nbformat_minor": 2
}
