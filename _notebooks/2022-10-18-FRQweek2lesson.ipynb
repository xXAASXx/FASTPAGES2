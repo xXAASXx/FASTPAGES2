{
 "cells": [
  {
   "cell_type": "markdown",
   "metadata": {},
   "source": [
    "# 2009 FRQ 3b"
   ]
  },
  {
   "cell_type": "code",
   "execution_count": 6,
   "metadata": {
    "vscode": {
     "languageId": "java"
    }
   },
   "outputs": [],
   "source": [
    "public int getChargeStartTime(int chargeTime)\n",
    "{\n",
    "  int cheapestStartHour = 0;\n",
    "  \n",
    "  for(int startHour = 1; startHour < rateTable.length; startHour++)\n",
    "    if(getChargingCost(startHour, chargeTime) <\n",
    "          getChargingCost(cheapestStartHour, chargeTime))\n",
    "      cheapestStartHour = startHour;\n",
    "  \n",
    "  return cheapestStartHour;\n",
    "}"
   ]
  },
  {
   "cell_type": "markdown",
   "metadata": {},
   "source": [
    "# 2017 FRQ 1b"
   ]
  },
  {
   "cell_type": "code",
   "execution_count": 3,
   "metadata": {
    "vscode": {
     "languageId": "java"
    }
   },
   "outputs": [],
   "source": [
    "public boolean isStrictlyIncreasing()\n",
    "{\n",
    "for (int i = 0; i < digitList.size()-1; i++)\n",
    "{\n",
    "if (digitList.get(i).intValue() >= digitList.get(i+1).intValue())\n",
    "{\n",
    "return false;\n",
    "}\n",
    "}\n",
    "return true;\n",
    "}"
   ]
  },
  {
   "cell_type": "markdown",
   "metadata": {},
   "source": [
    "# 2019 FRQ 3b"
   ]
  },
  {
   "cell_type": "code",
   "execution_count": 2,
   "metadata": {
    "vscode": {
     "languageId": "java"
    }
   },
   "outputs": [],
   "source": [
    "\n",
    "public boolean isBalanced(ArrayList<String> delimiters) {\n",
    "\tint openDels = 0;\n",
    "\tint closeDels = 0;\n",
    "\t\n",
    "\tfor (String del : delimiters) {\n",
    "\t\tif (del.equals(openDel)) {\n",
    "\t\t\topenDels++;\n",
    "\t\t} else {\n",
    "\t\t\tcloseDels++;\n",
    "\t\t}\n",
    "\t\t\n",
    "\t\tif (closeDels > openDels) {\n",
    "\t\t\treturn false;\n",
    "\t\t}\n",
    "\t}\n",
    "\t\n",
    "\treturn openDels == closeDels;\n",
    "}"
   ]
  }
 ],
 "metadata": {
  "kernelspec": {
   "display_name": "Java",
   "language": "java",
   "name": "java"
  },
  "language_info": {
   "codemirror_mode": "java",
   "file_extension": ".jshell",
   "mimetype": "text/x-java-source",
   "name": "Java",
   "pygments_lexer": "java",
   "version": "17.0.4.1+1"
  },
  "orig_nbformat": 4
 },
 "nbformat": 4,
 "nbformat_minor": 2
}
