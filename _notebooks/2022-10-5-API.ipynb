{
 "cells": [
  {
   "cell_type": "markdown",
   "metadata": {},
   "source": [
    "# Urban Dictionary API"
   ]
  },
  {
   "cell_type": "markdown",
   "metadata": {},
   "source": [
    "### Benefits of using an Urban Dictionary API!\n",
    "\n",
    "There are numerous dictionary API services available on the web that enable users to look up word definitions. However, the Urban Dictionary API sets itself apart in two significant aspects. Support for slang words and colloquial phrases and a Community-driven user-contributed rating system. The community-driven approach of the Urban Dictionary influences both these aspects. Since the user community collectively contributes to the dictionary, more contemporary, slang, and colloquial phrases are continuously added to the dictionary database. Thus the dictionary is richer and more relevant to the current times. Moreover, the user-contributed rating system allows users to rate word definitions and usage examples using up-votes and down-votes. This further democratizes the relevance of word definitions. Thus an end-user is presented with a list of word definitions and their corresponding example usages in addition to their up-votes and down-votes. This empowers the end-user with a choice to select and use a particular word definition and example from the returned list of multiple definitions."
   ]
  },
  {
   "cell_type": "code",
   "execution_count": 9,
   "metadata": {
    "vscode": {
     "languageId": "java"
    }
   },
   "outputs": [
    {
     "name": "stdout",
     "output_type": "stream",
     "text": [
      "\n"
     ]
    }
   ],
   "source": [
    "import java.net.URI;\n",
    "import java.net.http.HttpClient;\n",
    "import java.net.http.HttpRequest;\n",
    "import java.net.http.HttpResponse;\n",
    "\n",
    "\n",
    "HttpRequest request = HttpRequest.newBuilder()\n",
    ".uri(URI.create(\"https://mashape-community-urban-dictionary.p.rapidapi.com/define?term=wat\"))\n",
    ".header(\"X-RapidAPI-Key\", \"b256ce775fmsh9e5a7319b6e6e38p1d5c1fjsnae19e21ba599\")\n",
    ".header(\"X-RapidAPI-Host\", \"mashape-community-urban-dictionary.p.rapidapi.com\")\n",
    ".method(\"GET\", HttpRequest.BodyPublishers.noBody())\n",
    ".build();\n",
    "HttpResponse<String> response = HttpClient.newHttpClient().send(request, HttpResponse.BodyHandlers.ofString());\n",
    "System.out.println(response.body());"
   ]
  }
 ],
 "metadata": {
  "kernelspec": {
   "display_name": "Java",
   "language": "java",
   "name": "java"
  },
  "language_info": {
   "codemirror_mode": "java",
   "file_extension": ".jshell",
   "mimetype": "text/x-java-source",
   "name": "Java",
   "pygments_lexer": "java",
   "version": "17.0.4.1+1"
  },
  "orig_nbformat": 4
 },
 "nbformat": 4,
 "nbformat_minor": 2
}
