{
 "cells": [
  {
   "cell_type": "markdown",
   "metadata": {},
   "source": [
    "# Urban Dictionary API"
   ]
  },
  {
   "cell_type": "code",
   "execution_count": null,
   "metadata": {},
   "outputs": [],
   "source": [
    "}?\n",
    "Code Snippets\n",
    "Example Responses\n",
    "Results\n",
    "AsyncHttpClient client = new DefaultAsyncHttpClient();\n",
    "client.prepare(\"GET\", \"https://mashape-community-urban-dictionary.p.rapidapi.com/define?term=wat\")\n",
    "\t.setHeader(\"X-RapidAPI-Key\", \"b256ce775fmsh9e5a7319b6e6e38p1d5c1fjsnae19e21ba599\")\n",
    "\t.setHeader(\"X-RapidAPI-Host\", \"mashape-community-urban-dictionary.p.rapidapi.com\")\n",
    "\t.execute()\n",
    "\t.toCompletableFuture()\n",
    "\t.thenAccept(System.out::println)\n",
    "\t.join();\n",
    "\n",
    "client.close();"
   ]
  }
 ],
 "metadata": {
  "kernelspec": {
   "display_name": "Java",
   "language": "java",
   "name": "java"
  },
  "language_info": {
   "name": "java"
  },
  "orig_nbformat": 4
 },
 "nbformat": 4,
 "nbformat_minor": 2
}
