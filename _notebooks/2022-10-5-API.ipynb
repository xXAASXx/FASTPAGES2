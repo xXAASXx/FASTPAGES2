{
 "cells": [
  {
   "cell_type": "markdown",
   "metadata": {},
   "source": [
    "# Urban Dictionary API"
   ]
  },
  {
   "cell_type": "markdown",
   "metadata": {},
   "source": [
    "### Benefits of using an Urban Dictionary API!\n",
    "\n",
    "There are numerous dictionary API services available on the web that enable users to look up word definitions. However, the Urban Dictionary API sets itself apart in two significant aspects. Support for slang words and colloquial phrases and a Community-driven user-contributed rating system. The community-driven approach of the Urban Dictionary influences both these aspects. Since the user community collectively contributes to the dictionary, more contemporary, slang, and colloquial phrases are continuously added to the dictionary database. Thus the dictionary is richer and more relevant to the current times. Moreover, the user-contributed rating system allows users to rate word definitions and usage examples using up-votes and down-votes. This further democratizes the relevance of word definitions. Thus an end-user is presented with a list of word definitions and their corresponding example usages in addition to their up-votes and down-votes. This empowers the end-user with a choice to select and use a particular word definition and example from the returned list of multiple definitions."
   ]
  },
  {
   "cell_type": "code",
   "execution_count": 16,
   "metadata": {
    "vscode": {
     "languageId": "java"
    }
   },
   "outputs": [],
   "source": [
    "// package examples;\n",
    "\n",
    "// import org.json.JSONArray;\n",
    "\n",
    "// import urbanapi.Definition;\n",
    "// import urbanapi.UDParser;\n",
    "\n",
    "public class APITestDriver \n",
    "{\n",
    "\tpublic static void main (String[] args)\n",
    "\t{\n",
    "\t\tUDParser udparser = new UDParser(\"http://api.urbandictionary.com/v0/\");\n",
    "\t\tString JSONData = udparser.getJSONData(\"chris+hansen\");\n",
    "\t\t// String JSONData = udparser.getJSONData(6730949);\n",
    "\t\t// System.out.println(JSONData);\n",
    "\t\tDefinition[] test = udparser.getDefinitionsWithJSONData(JSONData);\n",
    "\t\tfor(int i = 0; i < test.length; i++)\n",
    "\t\t{\n",
    "\t\t\tSystem.out.println(\"WORD\");\n",
    "\t\t\tSystem.out.println(test[i].getWordName());\n",
    "\t\t\tSystem.out.println(\"DEFINITION\");\n",
    "\t\t\tSystem.out.println(test[i].getDefinition());\n",
    "\t\t\tSystem.out.println(\"AUTHOR\");\n",
    "\t\t\tSystem.out.println(test[i].getAuthor());\n",
    "\t\t\tSystem.out.println(\"WRITTEN DATE\");\n",
    "\t\t\tSystem.out.println(test[i].getWrittenDate());\n",
    "\t\t\tSystem.out.println(\"REFERENCE ID\");\n",
    "\t\t\tSystem.out.println(test[i].getRefID());\n",
    "\t\t\tSystem.out.println(\"PERMALINK\");\n",
    "\t\t\tSystem.out.println(test[i].getPermalink());\n",
    "\t\t}\n",
    "\t\tJSONArray keywordTags = udparser.getTagsWithJSONData(JSONData);\n",
    "\t\tSystem.out.println(\"TAGS\");\n",
    "\t\tfor(int i = 0; i < keywordTags.length(); i++)\n",
    "\t\t{\n",
    "\t\t\tSystem.out.println(keywordTags.get(i));\n",
    "\t\t}\n",
    "\t}\n",
    "}"
   ]
  },
  {
   "cell_type": "code",
   "execution_count": 18,
   "metadata": {
    "vscode": {
     "languageId": "java"
    }
   },
   "outputs": [
    {
     "name": "stdout",
     "output_type": "stream",
     "text": [
      "\n"
     ]
    }
   ],
   "source": [
    "import java.net.URI;\n",
    "import java.net.http.HttpClient;\n",
    "import java.net.http.HttpRequest;\n",
    "import java.net.http.HttpResponse;\n",
    "\n",
    "\n",
    "HttpRequest request = HttpRequest.newBuilder()\n",
    ".uri(URI.create(\"https://mashape-community-urban-dictionary.p.rapidapi.com/define?term=wat\"))\n",
    ".header(\"X-RapidAPI-Key\", \"b256ce775fmsh9e5a7319b6e6e38p1d5c1fjsnae19e21ba599\")\n",
    ".header(\"X-RapidAPI-Host\", \"mashape-community-urban-dictionary.p.rapidapi.com\")\n",
    ".method(\"GET\", HttpRequest.BodyPublishers.noBody())\n",
    ".build();\n",
    "HttpResponse<String> response = HttpClient.newHttpClient().send(request, HttpResponse.BodyHandlers.ofString());\n",
    "System.out.println(response.body());"
   ]
  },
  {
   "cell_type": "markdown",
   "metadata": {},
   "source": [
    "## Football Example API!"
   ]
  },
  {
   "cell_type": "code",
   "execution_count": 17,
   "metadata": {
    "vscode": {
     "languageId": "java"
    }
   },
   "outputs": [
    {
     "name": "stdout",
     "output_type": "stream",
     "text": [
      "{\"message\":\"NFL Scheduled games\",\"data\":[{\"date\":\"2022-10-07T00:15Z\",\"venue\":\"Empower Field at Mile High\",\"name\":\"Indianapolis Colts at Denver Broncos\",\"shortName\":\"IND @ DEN\",\"awayTeam\":{\"name\":\"Colts\",\"score\":\"0\"},\"homeTeam\":{\"name\":\"Broncos\",\"score\":\"0\"}},{\"date\":\"2022-10-09T13:30Z\",\"venue\":\"Tottenham Hotspur Stadium\",\"name\":\"New York Giants at Green Bay Packers\",\"shortName\":\"NYG @ GB\",\"awayTeam\":{\"name\":\"Giants\",\"score\":\"0\"},\"homeTeam\":{\"name\":\"Packers\",\"score\":\"0\"}},{\"date\":\"2022-10-09T17:00Z\",\"venue\":\"Highmark Stadium\",\"name\":\"Pittsburgh Steelers at Buffalo Bills\",\"shortName\":\"PIT @ BUF\",\"awayTeam\":{\"name\":\"Steelers\",\"score\":\"0\"},\"homeTeam\":{\"name\":\"Bills\",\"score\":\"0\"}},{\"date\":\"2022-10-09T17:00Z\",\"venue\":\"FirstEnergy Stadium\",\"name\":\"Los Angeles Chargers at Cleveland Browns\",\"shortName\":\"LAC @ CLE\",\"awayTeam\":{\"name\":\"Chargers\",\"score\":\"0\"},\"homeTeam\":{\"name\":\"Browns\",\"score\":\"0\"}},{\"date\":\"2022-10-09T17:00Z\",\"venue\":\"U.S. Bank Stadium\",\"name\":\"Chicago Bears at Minnesota Vikings\",\"shortName\":\"CHI @ MIN\",\"awayTeam\":{\"name\":\"Bears\",\"score\":\"0\"},\"homeTeam\":{\"name\":\"Vikings\",\"score\":\"0\"}},{\"date\":\"2022-10-09T17:00Z\",\"venue\":\"Gillette Stadium\",\"name\":\"Detroit Lions at New England Patriots\",\"shortName\":\"DET @ NE\",\"awayTeam\":{\"name\":\"Lions\",\"score\":\"0\"},\"homeTeam\":{\"name\":\"Patriots\",\"score\":\"0\"}},{\"date\":\"2022-10-09T17:00Z\",\"venue\":\"Caesars Superdome\",\"name\":\"Seattle Seahawks at New Orleans Saints\",\"shortName\":\"SEA @ NO\",\"awayTeam\":{\"name\":\"Seahawks\",\"score\":\"0\"},\"homeTeam\":{\"name\":\"Saints\",\"score\":\"0\"}},{\"date\":\"2022-10-09T17:00Z\",\"venue\":\"MetLife Stadium\",\"name\":\"Miami Dolphins at New York Jets\",\"shortName\":\"MIA @ NYJ\",\"awayTeam\":{\"name\":\"Dolphins\",\"score\":\"0\"},\"homeTeam\":{\"name\":\"Jets\",\"score\":\"0\"}},{\"date\":\"2022-10-09T17:00Z\",\"venue\":\"Raymond James Stadium\",\"name\":\"Atlanta Falcons at Tampa Bay Buccaneers\",\"shortName\":\"ATL @ TB\",\"awayTeam\":{\"name\":\"Falcons\",\"score\":\"0\"},\"homeTeam\":{\"name\":\"Buccaneers\",\"score\":\"0\"}},{\"date\":\"2022-10-09T17:00Z\",\"venue\":\"FedExField\",\"name\":\"Tennessee Titans at Washington Commanders\",\"shortName\":\"TEN @ WSH\",\"awayTeam\":{\"name\":\"Titans\",\"score\":\"0\"},\"homeTeam\":{\"name\":\"Commanders\",\"score\":\"0\"}},{\"date\":\"2022-10-09T17:00Z\",\"venue\":\"TIAA Bank Field\",\"name\":\"Houston Texans at Jacksonville Jaguars\",\"shortName\":\"HOU @ JAX\",\"awayTeam\":{\"name\":\"Texans\",\"score\":\"0\"},\"homeTeam\":{\"name\":\"Jaguars\",\"score\":\"0\"}},{\"date\":\"2022-10-09T20:05Z\",\"venue\":\"Bank of America Stadium\",\"name\":\"San Francisco 49ers at Carolina Panthers\",\"shortName\":\"SF @ CAR\",\"awayTeam\":{\"name\":\"49ers\",\"score\":\"0\"},\"homeTeam\":{\"name\":\"Panthers\",\"score\":\"0\"}},{\"date\":\"2022-10-09T20:25Z\",\"venue\":\"SoFi Stadium\",\"name\":\"Dallas Cowboys at Los Angeles Rams\",\"shortName\":\"DAL @ LAR\",\"awayTeam\":{\"name\":\"Cowboys\",\"score\":\"0\"},\"homeTeam\":{\"name\":\"Rams\",\"score\":\"0\"}},{\"date\":\"2022-10-09T20:25Z\",\"venue\":\"State Farm Stadium\",\"name\":\"Philadelphia Eagles at Arizona Cardinals\",\"shortName\":\"PHI @ ARI\",\"awayTeam\":{\"name\":\"Eagles\",\"score\":\"0\"},\"homeTeam\":{\"name\":\"Cardinals\",\"score\":\"0\"}},{\"date\":\"2022-10-10T00:20Z\",\"venue\":\"M&T Bank Stadium\",\"name\":\"Cincinnati Bengals at Baltimore Ravens\",\"shortName\":\"CIN @ BAL\",\"awayTeam\":{\"name\":\"Bengals\",\"score\":\"0\"},\"homeTeam\":{\"name\":\"Ravens\",\"score\":\"0\"}},{\"date\":\"2022-10-11T00:15Z\",\"venue\":\"GEHA Field at Arrowhead Stadium\",\"name\":\"Las Vegas Raiders at Kansas City Chiefs\",\"shortName\":\"LV @ KC\",\"awayTeam\":{\"name\":\"Raiders\",\"score\":\"0\"},\"homeTeam\":{\"name\":\"Chiefs\",\"score\":\"0\"}}]}\n"
     ]
    }
   ],
   "source": [
    "import java.net.URI;\n",
    "import java.net.http.HttpClient;\n",
    "import java.net.http.HttpRequest;\n",
    "import java.net.http.HttpResponse;\n",
    "\n",
    "HttpRequest request = HttpRequest.newBuilder()\n",
    "\t\t.uri(URI.create(\"https://nfl-schedule.p.rapidapi.com/v1/schedules\"))\n",
    "\t\t.header(\"X-RapidAPI-Key\", \"9fb1283360mshedc514375b603d6p156a26jsna7cd4ca5744a\")\n",
    "\t\t.header(\"X-RapidAPI-Host\", \"nfl-schedule.p.rapidapi.com\")\n",
    "\t\t.method(\"GET\", HttpRequest.BodyPublishers.noBody())\n",
    "\t\t.build();\n",
    "HttpResponse<String> response = HttpClient.newHttpClient().send(request, HttpResponse.BodyHandlers.ofString());\n",
    "System.out.println(response.body());"
   ]
  }
 ],
 "metadata": {
  "kernelspec": {
   "display_name": "Java",
   "language": "java",
   "name": "java"
  },
  "language_info": {
   "codemirror_mode": "java",
   "file_extension": ".jshell",
   "mimetype": "text/x-java-source",
   "name": "Java",
   "pygments_lexer": "java",
   "version": "17.0.4.1+1"
  },
  "orig_nbformat": 4
 },
 "nbformat": 4,
 "nbformat_minor": 2
}
