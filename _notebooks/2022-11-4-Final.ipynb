---
title: "My Title"
description: "Awesome description"
layout: post
toc: false
comments: true
image: FASTPAGES2/_notebooks/images/MCscore.png
hide: false
search_exclude: true
categories: [fastpages, jupyter]
metadata_key1: metadata_value1
metadata_key2: metadata_value2
---
{
 "cells": [
  {
   "cell_type": "markdown",
   "metadata": {},
   "source": [
    "# 2014 Multiple Choice Practice Exam"
   ]
  },
  {
   "cell_type": "markdown",
   "metadata": {},
   "source": [
    "## Finals Score + Test Corrections\n",
    "### Score: 32/40\n",
    "\n",
    "#### Test Corrections\n",
    "Q13 Pairwise 1D int array traversal: I got this question wrong by doing the wrong mathematical function given by the one dimensional array. The control variable K is something that I misunderstood as I thought K was just the start of the code function. \n",
    "\n",
    "Q16 append method with two 1D int arrays: I got this question wrong to a similar mistake as the last question I got wrong. Both of these problems deal with one dimensional arrays and in this question I did not add the right appendex variable. Silly mistake here for sure. \n",
    "\n",
    "Q25 RBox interfaces: This problem I was absurdly confused. So I searched the problem up and I still could not find the correct answer with an explanation of how. This left me with guessing and now I know I have to study RBox interfaces. I found a little something on it on W3 Schools and it was actually more simpler than I thought. \n",
    "\n",
    "Q28 mystery method with int parameter description: This is wrong because I ran the algorithm in the wrong order. The correct method had the while loop only iterate while n is greater than 2 and //Point B is in the body of the while loop prior to any change to the value of n. At this point, n will always be greater than 2.\n",
    "\n",
    "\n",
    "Q31 mystery with 1D int array and alias: I got this wrong by the results in the formal parameter and the actual parameter being aliases. They both refer to the same object. Any updates made to the referenced array when mystery is called are being made on the single array that is reference by both data and values. When data[k + 1] is updated, this value new value should be used in the subsequent calculations. Therefore answers choice C would make the most since and is the correct answer. \n",
    "\n",
    "Q33 Print sum after while loop: This question was definetely one of the silliest problems I could have got wrong as we deal with while loops all the time in Computer Science A. I should have realized it was an infinite loop since k is never changed in the body of the while loop, it will always be 1 and less than 4. In a boolean expression with or (||) if one of the two expressions is true, the expression is true. \n",
    "\n",
    "Q37 Missing while loop condition: This question was confusing for me because I felt that everything was right and although I got one part right of the loop, there was more to the correct answer. Choice I works. Choice III works also, as it will cause the while loop to iterate while x is less than 7. The variable x is assigned 1 to start and then incremented by 2. It will be assigned the values 1, 3, 5 and then 7. When x has the value 7, the loop will terminate. The output will be 1, 3, 5.\n",
    "\n",
    "\n",
    "Q38 Compound Boolean expression with variables x and y: I got this question wrong by matching the wrong mathematical expression to each variable. This expression will evaluate to false whenever y is less than 10000 regardless of whether x is in the correct range between 1000 and 1500. \n",
    "\n",
    "\n"
   ]
  },
  {
   "cell_type": "markdown",
   "metadata": {},
   "source": [
    "## Night @ the Museum Favorite Artifact!\n",
    "This was my favortite item that I enjoyed seeing becuase it had my favorite baseball team, the San Diego Padres. This team has been my favorite baseball team for 4 years know, since I started watching baseball and it the team of my hometown. Although they have been questionable in the past, this year this year we got to the semi-finals or NCLS without our very best player, Tatis. "
   ]
  }
 ],
 "metadata": {
  "kernelspec": {
   "display_name": "Java",
   "language": "java",
   "name": "java"
  },
  "language_info": {
   "codemirror_mode": "java",
   "file_extension": ".jshell",
   "mimetype": "text/x-java-source",
   "name": "Java",
   "pygments_lexer": "java",
   "version": "17.0.4.1+1"
  },
  "orig_nbformat": 4
 },
 "nbformat": 4,
 "nbformat_minor": 2
}
