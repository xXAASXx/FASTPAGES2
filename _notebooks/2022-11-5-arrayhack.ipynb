{
 "cells": [
  {
   "cell_type": "markdown",
   "metadata": {},
   "source": [
    "# Unit 6 Homework \n",
    "Hacks / Homework\n",
    "Write a class called ArrayMethods that contains two methods that utilize/manipulate an array. You may choose 2 of the 4 options below to complete. Extra credit for doing all 4 options. Make sure to show test cases for all of the options you choose.\n",
    "\n",
    "Options for hacks (Pick two):\n",
    "\n",
    "- Swap the first and last element in the array\n",
    "- Replace all even elements with 0\n",
    "- Return true if the array is currently sorted in increasing order\n",
    "- Return true if the array contains duplicate elements\n"
   ]
  },
  {
   "cell_type": "code",
   "execution_count": 28,
   "metadata": {
    "vscode": {
     "languageId": "java"
    }
   },
   "outputs": [
    {
     "name": "stdout",
     "output_type": "stream",
     "text": [
      "Original Array: [1, 2, 3]\n",
      "New Array: [3, 2, 1]\n"
     ]
    }
   ],
   "source": [
    "// Write array methods for the Array Methods class below out of the options given above.\n",
    "\n",
    "//Swap the first and last element in the array\n",
    "\n",
    "import java.util.Arrays; \n",
    " public class ArrayMethods {\n",
    " public static void main(String[] args)\n",
    " {\n",
    "    int[] array_nums = {1, 2, 3};\n",
    "\tSystem.out.println(\"Original Array: \"+Arrays.toString(array_nums)); \n",
    "\tint x = array_nums[0];\n",
    "\tarray_nums[0] = array_nums[array_nums.length-1];\n",
    "\tarray_nums[array_nums.length-1] = x;\n",
    "\tSystem.out.println(\"New Array: \"+Arrays.toString(array_nums));  \n",
    " }\n",
    "}\n",
    "ArrayMethods.main(null);"
   ]
  },
  {
   "cell_type": "code",
   "execution_count": 43,
   "metadata": {
    "vscode": {
     "languageId": "java"
    }
   },
   "outputs": [],
   "source": [
    "// Replace all even elements with 0\n",
    "\n",
    "public static int replaceEvenDigitsWithZero(int number) {\n",
    "    return (number%2 == 0 ? 0 : number % 10) + (number<10 ? 0 : 10 * replaceEvenDigitsWithZero(number / 10));\n",
    "}"
   ]
  }
 ],
 "metadata": {
  "kernelspec": {
   "display_name": "Java",
   "language": "java",
   "name": "java"
  },
  "language_info": {
   "codemirror_mode": "java",
   "file_extension": ".jshell",
   "mimetype": "text/x-java-source",
   "name": "Java",
   "pygments_lexer": "java",
   "version": "17.0.4.1+1"
  },
  "orig_nbformat": 4
 },
 "nbformat": 4,
 "nbformat_minor": 2
}
