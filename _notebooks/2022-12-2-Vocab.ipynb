{
 "cells": [
  {
   "cell_type": "markdown",
   "metadata": {},
   "source": [
    "# Units 1-5 Vocabulary"
   ]
  },
  {
   "cell_type": "markdown",
   "metadata": {},
   "source": [
    "## Unit 1\n",
    "- Data types: primitive types like integers, strings, or bytes. Non-primitive like strings, or more abstract ones.\n",
    "- Arithmetic operators: operators are like addition, subtraction, multiplication, and division. (+ - * /)\n",
    "- Compound assignment operators: this includes <= less than or equal to or *=. Pretty much links an arithmetic operators to a binary one.\n",
    "- Increment/Decrement operators: increase and set the variable by one. Decrease and set the variable by one.\n",
    "- Casting: This includes division, truncating, and rounding. This basically means to change the data type of a variable to another. This could make an integer a double or an integer a string.\n",
    "- Concatenation: operation of joining two string together.\n",
    "- Math class: This is a java class that allows access to different math expressions. This includes random and absolute value.\n",
    "\n",
    "\n",
    "## Unit 2\n",
    "- Constructors: a specific subroutine to create an object. For example you can specify a variable amount.\n",
    "- Syntax: the specific way you need to type things. It sounds complicated by the worst part is forgetting a semicolon at the end of a line.\n",
    "- Accessor Modifiers: this could include private, public or even protected. Private means that the function (or variable) can only be accessed in the same class. Opposite public means that it can be accessed in any class. Lastly, protected means that it can only be accessed from its own class and subclasses.\n",
    "\n",
    "\n",
    "## Unit 3\n",
    "- De Morgan’s Law: an equal statement comparing !(a && b) == !a || !b. This also goes for less than or equal to where !< == >=.\n",
    "- Compound boolean expressions: These are when you need to run multiple tests in an if statement. This can be done by having an AND (&&) or an or (||)\n",
    "- Comparing objects: you can also compare objects which includes seeing if an object is a sub-unit of another.\n",
    "\n",
    "\n",
    "## Unit 4\n",
    "- For Loop: a loop statement allowing the simplification of code through a condition. In this case the loop runs for as long as something is true. Usually for a set period of time.\n",
    "- While Loop: this loop statement runs for as long as a condition is true. While true, do this. This is used when the period of time is not set.\n",
    "- Recursion Loop: this loop includes running the function from itself.\n",
    "\n",
    "\n",
    "## Unit 5\n",
    "- Accessor Method (Getter): allow a way to get the value of each instance variable from outside of the class\n",
    "- toString() Method: an in-built method in Java that returns the value given to it in string format\n",
    "- Mutator (Modifier) Method (Setter): commonly known as a set method or simply a setter\n",
    "- Writing Methods: a block of code which only runs when it is called. You can pass data, known as parameters, into a method. Methods are used to perform certain actions, and they are also known as functions."
   ]
  },
  {
   "cell_type": "markdown",
   "metadata": {},
   "source": [
    "# Scores On Homework from Units 1-5\n",
    "\n",
    "| Unit | Score (__/1) | Link to Student/Teacher Scoring |\n",
    "| --- | --- | --- |\n",
    "| 1 | **1.0** | [Link]() |\n",
    "| 2 | **0.95** | [Link]() |\n",
    "| 3 | **0.95** | [Link]() |\n",
    "| 4 | **0.93** | [Link]() |\n",
    "| 5 | **0.90** | [Link]() |"
   ]
  }
 ],
 "metadata": {
  "kernelspec": {
   "display_name": "Java",
   "language": "java",
   "name": "java"
  },
  "language_info": {
   "name": "java"
  },
  "orig_nbformat": 4
 },
 "nbformat": 4,
 "nbformat_minor": 2
}
